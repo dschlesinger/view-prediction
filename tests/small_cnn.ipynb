{
 "cells": [
  {
   "cell_type": "code",
   "execution_count": null,
   "metadata": {},
   "outputs": [],
   "source": [
    "%pip install -r ../requirements.txt"
   ]
  },
  {
   "cell_type": "code",
   "execution_count": 1,
   "metadata": {},
   "outputs": [],
   "source": [
    "base_dir: bool = False"
   ]
  },
  {
   "cell_type": "code",
   "execution_count": 2,
   "metadata": {},
   "outputs": [],
   "source": [
    "import os, sys\n",
    "\n",
    "if not base_dir:\n",
    "    os.chdir('../')\n",
    "    base_dir = True\n",
    "\n",
    "import numpy as np, pandas as pd, matplotlib.pyplot as plt, sklearn\n",
    "\n",
    "from sklearn.metrics import accuracy_score\n",
    "\n",
    "from utils.data_tools import inbreast, cbis_ddsm, image_processing\n",
    "from utils.models import models"
   ]
  },
  {
   "cell_type": "code",
   "execution_count": 3,
   "metadata": {},
   "outputs": [
    {
     "name": "stdout",
     "output_type": "stream",
     "text": [
      "\u001b[32mPath already exists for INBreast!\u001b[0m\n",
      "\u001b[32mPath already exists for CBIS-DDSM!\u001b[0m\n"
     ]
    }
   ],
   "source": [
    "inbreast.download()\n",
    "cbis_ddsm.download()"
   ]
  },
  {
   "cell_type": "code",
   "execution_count": 8,
   "metadata": {},
   "outputs": [
    {
     "name": "stdout",
     "output_type": "stream",
     "text": [
      "409/409\n"
     ]
    }
   ],
   "source": [
    "# Get training features from cbis_ddsm and validation data from inbreast\n",
    "\n",
    "class cbis_ddsm_data:\n",
    "\n",
    "    x_train, x_test, y_train, y_test = data = cbis_ddsm.get_images()\n",
    "\n",
    "class inbreast_data:\n",
    "\n",
    "    x_train, x_test, y_train, y_test = data = inbreast.get_images()\n",
    "\n",
    "    x, y = np.concat([x_train, x_test]), np.concat([y_train, y_test])"
   ]
  },
  {
   "cell_type": "code",
   "execution_count": 30,
   "metadata": {},
   "outputs": [],
   "source": [
    "# Create model wrapper\n",
    "\n",
    "M = models(cbis_ddsm_data.data)"
   ]
  },
  {
   "cell_type": "code",
   "execution_count": 31,
   "metadata": {},
   "outputs": [
    {
     "name": "stdout",
     "output_type": "stream",
     "text": [
      "Epoch 1/3\n",
      "\u001b[1m72/72\u001b[0m \u001b[32m━━━━━━━━━━━━━━━━━━━━\u001b[0m\u001b[37m\u001b[0m \u001b[1m13s\u001b[0m 153ms/step - accuracy: 0.7988 - auc: 0.8467 - loss: 0.9398\n",
      "Epoch 2/3\n",
      "\u001b[1m72/72\u001b[0m \u001b[32m━━━━━━━━━━━━━━━━━━━━\u001b[0m\u001b[37m\u001b[0m \u001b[1m11s\u001b[0m 148ms/step - accuracy: 0.9798 - auc: 0.9928 - loss: 0.0860\n",
      "Epoch 3/3\n",
      "\u001b[1m72/72\u001b[0m \u001b[32m━━━━━━━━━━━━━━━━━━━━\u001b[0m\u001b[37m\u001b[0m \u001b[1m11s\u001b[0m 148ms/step - accuracy: 0.9813 - auc: 0.9908 - loss: 0.0890\n",
      "\u001b[1m18/18\u001b[0m \u001b[32m━━━━━━━━━━━━━━━━━━━━\u001b[0m\u001b[37m\u001b[0m \u001b[1m1s\u001b[0m 47ms/step - accuracy: 0.9802 - auc: 0.9985 - loss: 0.0595\n",
      "\n",
      "            SmallCNN stats\n",
      "\n",
      "            BinaryCrossentropy Loss: 0.04648654907941818\n",
      "            auc: 0.9989706873893738\n",
      "accuracy: 0.9842657446861267\n",
      "            \n"
     ]
    }
   ],
   "source": [
    "# Contruct and Train model\n",
    "cnn = M.SmallCNN(epochs=3, lr=0.01, metrics=['auc', 'accuracy'])"
   ]
  },
  {
   "cell_type": "code",
   "execution_count": 32,
   "metadata": {},
   "outputs": [
    {
     "name": "stdout",
     "output_type": "stream",
     "text": [
      "0.9878048780487805\n"
     ]
    }
   ],
   "source": [
    "# Validate on INBreast\n",
    "y_pred = [np.round(p) for p in cnn.predict(inbreast_data.x_test, verbose=0)]\n",
    "\n",
    "print(inbreast_accuracy := accuracy_score(inbreast_data.y_test, y_pred))"
   ]
  },
  {
   "cell_type": "code",
   "execution_count": 33,
   "metadata": {},
   "outputs": [
    {
     "name": "stdout",
     "output_type": "stream",
     "text": [
      "\n",
      "Validation Accuracy (INBreast): 99.0%\n",
      "Number of Params: 161313\n",
      "Memory Allocation: 0.62 MB\n",
      "Run time (100 images GPU): 0.08 sec\n",
      "\n"
     ]
    }
   ],
   "source": [
    "# Model information\n",
    "\n",
    "from timeit import timeit\n",
    "\n",
    "def predict_100_images() -> None:\n",
    "    cnn.predict(cbis_ddsm_data.x_test[: 10], verbose=0)\n",
    "\n",
    "print(f\"\"\"\n",
    "Validation Accuracy (INBreast): {round(inbreast_accuracy, 2) * 100}%\n",
    "Number of Params: {(params := cnn.count_params())}\n",
    "Memory Allocation: {round((params * 4) / (1024**2), 2)} MB\n",
    "Run time (100 images GPU): {timeit(predict_100_images, number=1):.2f} sec\n",
    "\"\"\")"
   ]
  },
  {
   "cell_type": "code",
   "execution_count": 35,
   "metadata": {},
   "outputs": [],
   "source": [
    "cnn.save('models/SmallCNN.keras')"
   ]
  },
  {
   "cell_type": "code",
   "execution_count": null,
   "metadata": {},
   "outputs": [],
   "source": [
    "# GradCAM implementation\n",
    "\n",
    "# from utils.grad_cam import GradCAM_Tools\n",
    "\n",
    "# GradCAM_Tools.display.GradCAM(cnn, inbreast_data.x[0])"
   ]
  }
 ],
 "metadata": {
  "kernelspec": {
   "display_name": "base",
   "language": "python",
   "name": "python3"
  },
  "language_info": {
   "codemirror_mode": {
    "name": "ipython",
    "version": 3
   },
   "file_extension": ".py",
   "mimetype": "text/x-python",
   "name": "python",
   "nbconvert_exporter": "python",
   "pygments_lexer": "ipython3",
   "version": "3.12.3"
  }
 },
 "nbformat": 4,
 "nbformat_minor": 2
}
