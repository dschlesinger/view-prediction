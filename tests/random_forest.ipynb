{
 "cells": [
  {
   "cell_type": "code",
   "execution_count": null,
   "metadata": {},
   "outputs": [],
   "source": [
    "%pip install -r requirements.txt"
   ]
  },
  {
   "cell_type": "code",
   "execution_count": null,
   "metadata": {},
   "outputs": [],
   "source": [
    "base_dir: bool = False"
   ]
  },
  {
   "cell_type": "code",
   "execution_count": null,
   "metadata": {},
   "outputs": [],
   "source": [
    "import os, sys\n",
    "\n",
    "if not base_dir:\n",
    "    os.chdir('../')\n",
    "    base_dir = True\n",
    "\n",
    "import numpy as np, pandas as pd, matplotlib.pyplot as plt, sklearn\n",
    "\n",
    "from sklearn.metrics import accuracy_score\n",
    "\n",
    "from utils.data_tools import inbreast, cbis_ddsm, image_processing\n",
    "from utils.models import models"
   ]
  },
  {
   "cell_type": "code",
   "execution_count": 2,
   "metadata": {},
   "outputs": [
    {
     "name": "stdout",
     "output_type": "stream",
     "text": [
      "\u001b[32mPath already exists for INBreast!\u001b[0m\n",
      "\u001b[32mPath already exists for CBIS-DDSM!\u001b[0m\n"
     ]
    }
   ],
   "source": [
    "inbreast.download()\n",
    "cbis_ddsm.download()"
   ]
  },
  {
   "cell_type": "code",
   "execution_count": 3,
   "metadata": {},
   "outputs": [],
   "source": [
    "# Get training features from cbis_ddsm and validation data from inbreast\n",
    "\n",
    "class cbis_ddsm_data:\n",
    "\n",
    "    x_train, x_test, y_train, y_test = data = cbis_ddsm.get_xy()\n",
    "\n",
    "class inbreast_data:\n",
    "\n",
    "    x_train, x_test, y_train, y_test = inbreast.get_xy()\n",
    "\n",
    "    x, y = np.concat([x_train, x_test]), np.concat([y_train, y_test])"
   ]
  },
  {
   "cell_type": "code",
   "execution_count": 22,
   "metadata": {},
   "outputs": [],
   "source": [
    "# Create model wrapper\n",
    "\n",
    "M = models(cbis_ddsm_data.data)"
   ]
  },
  {
   "cell_type": "code",
   "execution_count": 6,
   "metadata": {},
   "outputs": [
    {
     "name": "stdout",
     "output_type": "stream",
     "text": [
      "Random Forest Accuracy: 0.8811188811188811\n"
     ]
    }
   ],
   "source": [
    "searchable_space = {\n",
    "    \"max_depth\": [None, 5, 10, 20, 50],\n",
    "    'n_estimators': [50, 100, 200, 500],\n",
    "    \"min_samples_leaf\": [5, 10, 20, 50],\n",
    "    \"max_leaf_nodes\": [None, 5, 10, 20, 50],\n",
    "    \"max_samples\": [None, 0.2, 0.5, 0.8],\n",
    "}\n",
    "\n",
    "best_model, saves = M.grid_search(M.random_forest, **searchable_space)"
   ]
  },
  {
   "cell_type": "code",
   "execution_count": 13,
   "metadata": {},
   "outputs": [],
   "source": [
    "# Cutoff for model validation on INBreast\n",
    "cutoff: float = 0.9\n",
    "\n",
    "validation_search_params = []\n",
    "\n",
    "for params, score in saves:\n",
    "\n",
    "    if score > cutoff:\n",
    "\n",
    "        validation_search_params.append(params)"
   ]
  },
  {
   "cell_type": "code",
   "execution_count": 15,
   "metadata": {},
   "outputs": [
    {
     "name": "stdout",
     "output_type": "stream",
     "text": [
      "109\n"
     ]
    }
   ],
   "source": [
    "print(f\"{(num_val_params := validation_search_params.__len__())}\")"
   ]
  },
  {
   "cell_type": "code",
   "execution_count": 17,
   "metadata": {},
   "outputs": [
    {
     "name": "stdout",
     "output_type": "stream",
     "text": [
      "Random Forest Accuracy: 0.9003496503496503\n"
     ]
    }
   ],
   "source": [
    "# Create search models for validation score\n",
    "\n",
    "from IPython.display import clear_output\n",
    "\n",
    "save_val = []\n",
    "\n",
    "for i, vparam in enumerate(validation_search_params):\n",
    "\n",
    "    print(f\"{i + 1}/{num_val_params}\")\n",
    "\n",
    "    clear_output(wait=True)\n",
    "\n",
    "    model = M.random_forest(**vparam)\n",
    "\n",
    "    y_pred = model.predict(inbreast_data.x)\n",
    "\n",
    "    acc = accuracy_score(inbreast_data.y, y_pred)\n",
    "\n",
    "    save_val.append((vparam, acc))"
   ]
  },
  {
   "cell_type": "code",
   "execution_count": 21,
   "metadata": {},
   "outputs": [
    {
     "name": "stdout",
     "output_type": "stream",
     "text": [
      "({'max_depth': 10, 'n_estimators': 50, 'min_samples_leaf': 5, 'max_leaf_nodes': 50, 'max_samples': None}, 0.8728606356968215)\n",
      "({'max_depth': None, 'n_estimators': 50, 'min_samples_leaf': 5, 'max_leaf_nodes': 50, 'max_samples': None}, 0.8484107579462102)\n",
      "({'max_depth': 10, 'n_estimators': 100, 'min_samples_leaf': 5, 'max_leaf_nodes': 50, 'max_samples': None}, 0.8484107579462102)\n",
      "({'max_depth': 20, 'n_estimators': 50, 'min_samples_leaf': 5, 'max_leaf_nodes': 50, 'max_samples': None}, 0.8484107579462102)\n",
      "({'max_depth': 50, 'n_estimators': 50, 'min_samples_leaf': 5, 'max_leaf_nodes': 50, 'max_samples': None}, 0.8484107579462102)\n"
     ]
    }
   ],
   "source": [
    "# Show acc on validation\n",
    "\n",
    "print(*sorted(save_val, key=lambda s: s[1], reverse=True)[0:5], sep='\\n')"
   ]
  },
  {
   "cell_type": "code",
   "execution_count": null,
   "metadata": {},
   "outputs": [],
   "source": [
    "# Save"
   ]
  }
 ],
 "metadata": {
  "kernelspec": {
   "display_name": "base",
   "language": "python",
   "name": "python3"
  },
  "language_info": {
   "codemirror_mode": {
    "name": "ipython",
    "version": 3
   },
   "file_extension": ".py",
   "mimetype": "text/x-python",
   "name": "python",
   "nbconvert_exporter": "python",
   "pygments_lexer": "ipython3",
   "version": "3.12.3"
  }
 },
 "nbformat": 4,
 "nbformat_minor": 2
}
