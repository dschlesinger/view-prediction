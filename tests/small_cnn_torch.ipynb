{
 "cells": [
  {
   "cell_type": "code",
   "execution_count": 1,
   "metadata": {},
   "outputs": [
    {
     "name": "stdout",
     "output_type": "stream",
     "text": [
      "Requirement already satisfied: kagglehub in c:\\users\\theon\\miniconda3\\lib\\site-packages (from -r ../requirements.txt (line 1)) (0.3.5)\n",
      "Requirement already satisfied: numpy in c:\\users\\theon\\miniconda3\\lib\\site-packages (from -r ../requirements.txt (line 2)) (2.0.2)\n",
      "Requirement already satisfied: pandas in c:\\users\\theon\\miniconda3\\lib\\site-packages (from -r ../requirements.txt (line 3)) (2.2.3)\n",
      "Requirement already satisfied: xlrd in c:\\users\\theon\\miniconda3\\lib\\site-packages (from -r ../requirements.txt (line 4)) (2.0.1)\n",
      "Requirement already satisfied: pydicom in c:\\users\\theon\\miniconda3\\lib\\site-packages (from -r ../requirements.txt (line 5)) (3.0.1)\n",
      "Requirement already satisfied: matplotlib in c:\\users\\theon\\miniconda3\\lib\\site-packages (from -r ../requirements.txt (line 6)) (3.9.3)\n",
      "Requirement already satisfied: Pillow in c:\\users\\theon\\miniconda3\\lib\\site-packages (from -r ../requirements.txt (line 7)) (11.0.0)\n",
      "Requirement already satisfied: scikit-learn in c:\\users\\theon\\miniconda3\\lib\\site-packages (from -r ../requirements.txt (line 8)) (1.6.0)\n",
      "Requirement already satisfied: tensorflow in c:\\users\\theon\\miniconda3\\lib\\site-packages (from -r ../requirements.txt (line 9)) (2.18.0)\n",
      "Requirement already satisfied: grad-cam in c:\\users\\theon\\miniconda3\\lib\\site-packages (from -r ../requirements.txt (line 10)) (1.5.4)\n",
      "Requirement already satisfied: opencv-python in c:\\users\\theon\\miniconda3\\lib\\site-packages (from -r ../requirements.txt (line 11)) (4.10.0.84)\n",
      "Requirement already satisfied: torch in c:\\users\\theon\\miniconda3\\lib\\site-packages (from -r ../requirements.txt (line 12)) (2.5.1)\n",
      "Requirement already satisfied: packaging in c:\\users\\theon\\miniconda3\\lib\\site-packages (from kagglehub->-r ../requirements.txt (line 1)) (24.1)\n",
      "Requirement already satisfied: requests in c:\\users\\theon\\miniconda3\\lib\\site-packages (from kagglehub->-r ../requirements.txt (line 1)) (2.31.0)\n",
      "Requirement already satisfied: tqdm in c:\\users\\theon\\miniconda3\\lib\\site-packages (from kagglehub->-r ../requirements.txt (line 1)) (4.62.3)\n",
      "Requirement already satisfied: python-dateutil>=2.8.2 in c:\\users\\theon\\miniconda3\\lib\\site-packages (from pandas->-r ../requirements.txt (line 3)) (2.9.0.post0)\n",
      "Requirement already satisfied: pytz>=2020.1 in c:\\users\\theon\\miniconda3\\lib\\site-packages (from pandas->-r ../requirements.txt (line 3)) (2024.2)\n",
      "Requirement already satisfied: tzdata>=2022.7 in c:\\users\\theon\\miniconda3\\lib\\site-packages (from pandas->-r ../requirements.txt (line 3)) (2024.2)\n",
      "Requirement already satisfied: contourpy>=1.0.1 in c:\\users\\theon\\miniconda3\\lib\\site-packages (from matplotlib->-r ../requirements.txt (line 6)) (1.3.1)\n",
      "Requirement already satisfied: cycler>=0.10 in c:\\users\\theon\\miniconda3\\lib\\site-packages (from matplotlib->-r ../requirements.txt (line 6)) (0.12.1)\n",
      "Requirement already satisfied: fonttools>=4.22.0 in c:\\users\\theon\\miniconda3\\lib\\site-packages (from matplotlib->-r ../requirements.txt (line 6)) (4.55.3)\n",
      "Requirement already satisfied: kiwisolver>=1.3.1 in c:\\users\\theon\\miniconda3\\lib\\site-packages (from matplotlib->-r ../requirements.txt (line 6)) (1.4.7)\n",
      "Requirement already satisfied: pyparsing>=2.3.1 in c:\\users\\theon\\miniconda3\\lib\\site-packages (from matplotlib->-r ../requirements.txt (line 6)) (3.2.0)\n",
      "Requirement already satisfied: scipy>=1.6.0 in c:\\users\\theon\\miniconda3\\lib\\site-packages (from scikit-learn->-r ../requirements.txt (line 8)) (1.14.1)\n",
      "Requirement already satisfied: joblib>=1.2.0 in c:\\users\\theon\\miniconda3\\lib\\site-packages (from scikit-learn->-r ../requirements.txt (line 8)) (1.4.2)\n",
      "Requirement already satisfied: threadpoolctl>=3.1.0 in c:\\users\\theon\\miniconda3\\lib\\site-packages (from scikit-learn->-r ../requirements.txt (line 8)) (3.5.0)\n",
      "Requirement already satisfied: tensorflow-intel==2.18.0 in c:\\users\\theon\\miniconda3\\lib\\site-packages (from tensorflow->-r ../requirements.txt (line 9)) (2.18.0)\n",
      "Requirement already satisfied: absl-py>=1.0.0 in c:\\users\\theon\\miniconda3\\lib\\site-packages (from tensorflow-intel==2.18.0->tensorflow->-r ../requirements.txt (line 9)) (2.1.0)\n",
      "Requirement already satisfied: astunparse>=1.6.0 in c:\\users\\theon\\miniconda3\\lib\\site-packages (from tensorflow-intel==2.18.0->tensorflow->-r ../requirements.txt (line 9)) (1.6.3)\n",
      "Requirement already satisfied: flatbuffers>=24.3.25 in c:\\users\\theon\\miniconda3\\lib\\site-packages (from tensorflow-intel==2.18.0->tensorflow->-r ../requirements.txt (line 9)) (24.3.25)\n",
      "Requirement already satisfied: gast!=0.5.0,!=0.5.1,!=0.5.2,>=0.2.1 in c:\\users\\theon\\miniconda3\\lib\\site-packages (from tensorflow-intel==2.18.0->tensorflow->-r ../requirements.txt (line 9)) (0.6.0)\n",
      "Requirement already satisfied: google-pasta>=0.1.1 in c:\\users\\theon\\miniconda3\\lib\\site-packages (from tensorflow-intel==2.18.0->tensorflow->-r ../requirements.txt (line 9)) (0.2.0)\n",
      "Requirement already satisfied: libclang>=13.0.0 in c:\\users\\theon\\miniconda3\\lib\\site-packages (from tensorflow-intel==2.18.0->tensorflow->-r ../requirements.txt (line 9)) (18.1.1)\n",
      "Requirement already satisfied: opt-einsum>=2.3.2 in c:\\users\\theon\\miniconda3\\lib\\site-packages (from tensorflow-intel==2.18.0->tensorflow->-r ../requirements.txt (line 9)) (3.4.0)\n",
      "Requirement already satisfied: protobuf!=4.21.0,!=4.21.1,!=4.21.2,!=4.21.3,!=4.21.4,!=4.21.5,<6.0.0dev,>=3.20.3 in c:\\users\\theon\\miniconda3\\lib\\site-packages (from tensorflow-intel==2.18.0->tensorflow->-r ../requirements.txt (line 9)) (5.29.1)\n",
      "Requirement already satisfied: setuptools in c:\\users\\theon\\miniconda3\\lib\\site-packages (from tensorflow-intel==2.18.0->tensorflow->-r ../requirements.txt (line 9)) (72.1.0)\n",
      "Requirement already satisfied: six>=1.12.0 in c:\\users\\theon\\miniconda3\\lib\\site-packages (from tensorflow-intel==2.18.0->tensorflow->-r ../requirements.txt (line 9)) (1.17.0)\n",
      "Requirement already satisfied: termcolor>=1.1.0 in c:\\users\\theon\\miniconda3\\lib\\site-packages (from tensorflow-intel==2.18.0->tensorflow->-r ../requirements.txt (line 9)) (2.5.0)\n",
      "Requirement already satisfied: typing-extensions>=3.6.6 in c:\\users\\theon\\miniconda3\\lib\\site-packages (from tensorflow-intel==2.18.0->tensorflow->-r ../requirements.txt (line 9)) (4.12.2)\n",
      "Requirement already satisfied: wrapt>=1.11.0 in c:\\users\\theon\\miniconda3\\lib\\site-packages (from tensorflow-intel==2.18.0->tensorflow->-r ../requirements.txt (line 9)) (1.17.0)\n",
      "Requirement already satisfied: grpcio<2.0,>=1.24.3 in c:\\users\\theon\\miniconda3\\lib\\site-packages (from tensorflow-intel==2.18.0->tensorflow->-r ../requirements.txt (line 9)) (1.68.1)\n",
      "Requirement already satisfied: tensorboard<2.19,>=2.18 in c:\\users\\theon\\miniconda3\\lib\\site-packages (from tensorflow-intel==2.18.0->tensorflow->-r ../requirements.txt (line 9)) (2.18.0)\n",
      "Requirement already satisfied: keras>=3.5.0 in c:\\users\\theon\\miniconda3\\lib\\site-packages (from tensorflow-intel==2.18.0->tensorflow->-r ../requirements.txt (line 9)) (3.7.0)\n",
      "Requirement already satisfied: h5py>=3.11.0 in c:\\users\\theon\\miniconda3\\lib\\site-packages (from tensorflow-intel==2.18.0->tensorflow->-r ../requirements.txt (line 9)) (3.12.1)\n",
      "Requirement already satisfied: ml-dtypes<0.5.0,>=0.4.0 in c:\\users\\theon\\miniconda3\\lib\\site-packages (from tensorflow-intel==2.18.0->tensorflow->-r ../requirements.txt (line 9)) (0.4.1)\n",
      "Requirement already satisfied: torchvision>=0.8.2 in c:\\users\\theon\\miniconda3\\lib\\site-packages (from grad-cam->-r ../requirements.txt (line 10)) (0.20.1)\n",
      "Requirement already satisfied: ttach in c:\\users\\theon\\miniconda3\\lib\\site-packages (from grad-cam->-r ../requirements.txt (line 10)) (0.0.3)\n",
      "Requirement already satisfied: filelock in c:\\users\\theon\\miniconda3\\lib\\site-packages (from torch->-r ../requirements.txt (line 12)) (3.16.1)\n",
      "Requirement already satisfied: networkx in c:\\users\\theon\\miniconda3\\lib\\site-packages (from torch->-r ../requirements.txt (line 12)) (3.4.2)\n",
      "Requirement already satisfied: jinja2 in c:\\users\\theon\\miniconda3\\lib\\site-packages (from torch->-r ../requirements.txt (line 12)) (3.1.5)\n",
      "Requirement already satisfied: fsspec in c:\\users\\theon\\miniconda3\\lib\\site-packages (from torch->-r ../requirements.txt (line 12)) (2024.12.0)\n",
      "Requirement already satisfied: sympy==1.13.1 in c:\\users\\theon\\miniconda3\\lib\\site-packages (from torch->-r ../requirements.txt (line 12)) (1.13.1)\n",
      "Requirement already satisfied: mpmath<1.4,>=1.1.0 in c:\\users\\theon\\miniconda3\\lib\\site-packages (from sympy==1.13.1->torch->-r ../requirements.txt (line 12)) (1.3.0)\n",
      "Requirement already satisfied: charset-normalizer<4,>=2 in c:\\users\\theon\\miniconda3\\lib\\site-packages (from requests->kagglehub->-r ../requirements.txt (line 1)) (3.3.2)\n",
      "Requirement already satisfied: idna<4,>=2.5 in c:\\users\\theon\\miniconda3\\lib\\site-packages (from requests->kagglehub->-r ../requirements.txt (line 1)) (3.7)\n",
      "Requirement already satisfied: urllib3<3,>=1.21.1 in c:\\users\\theon\\miniconda3\\lib\\site-packages (from requests->kagglehub->-r ../requirements.txt (line 1)) (2.2.2)\n",
      "Requirement already satisfied: certifi>=2017.4.17 in c:\\users\\theon\\miniconda3\\lib\\site-packages (from requests->kagglehub->-r ../requirements.txt (line 1)) (2024.8.30)\n",
      "Requirement already satisfied: MarkupSafe>=2.0 in c:\\users\\theon\\miniconda3\\lib\\site-packages (from jinja2->torch->-r ../requirements.txt (line 12)) (3.0.2)\n",
      "Requirement already satisfied: colorama in c:\\users\\theon\\miniconda3\\lib\\site-packages (from tqdm->kagglehub->-r ../requirements.txt (line 1)) (0.4.6)\n",
      "Requirement already satisfied: wheel<1.0,>=0.23.0 in c:\\users\\theon\\miniconda3\\lib\\site-packages (from astunparse>=1.6.0->tensorflow-intel==2.18.0->tensorflow->-r ../requirements.txt (line 9)) (0.43.0)\n",
      "Requirement already satisfied: rich in c:\\users\\theon\\miniconda3\\lib\\site-packages (from keras>=3.5.0->tensorflow-intel==2.18.0->tensorflow->-r ../requirements.txt (line 9)) (13.9.4)\n",
      "Requirement already satisfied: namex in c:\\users\\theon\\miniconda3\\lib\\site-packages (from keras>=3.5.0->tensorflow-intel==2.18.0->tensorflow->-r ../requirements.txt (line 9)) (0.0.8)\n",
      "Requirement already satisfied: optree in c:\\users\\theon\\miniconda3\\lib\\site-packages (from keras>=3.5.0->tensorflow-intel==2.18.0->tensorflow->-r ../requirements.txt (line 9)) (0.13.1)\n",
      "Requirement already satisfied: markdown>=2.6.8 in c:\\users\\theon\\miniconda3\\lib\\site-packages (from tensorboard<2.19,>=2.18->tensorflow-intel==2.18.0->tensorflow->-r ../requirements.txt (line 9)) (3.7)\n",
      "Requirement already satisfied: tensorboard-data-server<0.8.0,>=0.7.0 in c:\\users\\theon\\miniconda3\\lib\\site-packages (from tensorboard<2.19,>=2.18->tensorflow-intel==2.18.0->tensorflow->-r ../requirements.txt (line 9)) (0.7.2)\n",
      "Requirement already satisfied: werkzeug>=1.0.1 in c:\\users\\theon\\miniconda3\\lib\\site-packages (from tensorboard<2.19,>=2.18->tensorflow-intel==2.18.0->tensorflow->-r ../requirements.txt (line 9)) (2.3.8)\n",
      "Requirement already satisfied: markdown-it-py>=2.2.0 in c:\\users\\theon\\miniconda3\\lib\\site-packages (from rich->keras>=3.5.0->tensorflow-intel==2.18.0->tensorflow->-r ../requirements.txt (line 9)) (3.0.0)\n",
      "Requirement already satisfied: pygments<3.0.0,>=2.13.0 in c:\\users\\theon\\miniconda3\\lib\\site-packages (from rich->keras>=3.5.0->tensorflow-intel==2.18.0->tensorflow->-r ../requirements.txt (line 9)) (2.18.0)\n",
      "Requirement already satisfied: mdurl~=0.1 in c:\\users\\theon\\miniconda3\\lib\\site-packages (from markdown-it-py>=2.2.0->rich->keras>=3.5.0->tensorflow-intel==2.18.0->tensorflow->-r ../requirements.txt (line 9)) (0.1.2)\n",
      "Note: you may need to restart the kernel to use updated packages.\n"
     ]
    }
   ],
   "source": [
    "%pip install -r ../requirements.txt"
   ]
  },
  {
   "cell_type": "code",
   "execution_count": 1,
   "metadata": {},
   "outputs": [],
   "source": [
    "base_dir: bool = False"
   ]
  },
  {
   "cell_type": "code",
   "execution_count": 2,
   "metadata": {},
   "outputs": [],
   "source": [
    "import os, sys\n",
    "\n",
    "if not base_dir:\n",
    "    os.chdir('../')\n",
    "    base_dir = True\n",
    "\n",
    "import numpy as np, pandas as pd, matplotlib.pyplot as plt, sklearn, torch\n",
    "\n",
    "from torch.utils.data import DataLoader, TensorDataset\n",
    "\n",
    "import torch.nn as nn\n",
    "\n",
    "from torchvision import datasets, transforms\n",
    "\n",
    "from sklearn.metrics import accuracy_score\n",
    "\n",
    "from utils.data_tools import inbreast, cbis_ddsm, image_processing\n",
    "from utils.models import models\n",
    "\n",
    "import tensorflow as tf"
   ]
  },
  {
   "cell_type": "code",
   "execution_count": 4,
   "metadata": {},
   "outputs": [
    {
     "name": "stdout",
     "output_type": "stream",
     "text": [
      "\u001b[32mPath already exists for INBreast!\u001b[0m\n",
      "\u001b[32mPath already exists for CBIS-DDSM!\u001b[0m\n"
     ]
    }
   ],
   "source": [
    "inbreast.download()\n",
    "cbis_ddsm.download()"
   ]
  },
  {
   "cell_type": "code",
   "execution_count": 3,
   "metadata": {},
   "outputs": [],
   "source": [
    "(x_train, y_train), (x_test, y_test) = tf.keras.datasets.mnist.load_data()"
   ]
  },
  {
   "cell_type": "code",
   "execution_count": 4,
   "metadata": {},
   "outputs": [],
   "source": [
    "to_unique = tf.keras.utils.to_categorical"
   ]
  },
  {
   "cell_type": "code",
   "execution_count": 5,
   "metadata": {},
   "outputs": [],
   "source": [
    "train, test = (x_train.reshape((60000, 28, 28, 1)), to_unique(y_train).reshape((60000, 10, 1))), (x_test.reshape((10000, 28, 28, 1)), to_unique(y_test).reshape((10000, 10, 1)))"
   ]
  },
  {
   "cell_type": "code",
   "execution_count": 3,
   "metadata": {},
   "outputs": [],
   "source": [
    "def load_mnist(batch_size=32):\n",
    "    transform = transforms.Compose([\n",
    "        transforms.Resize((224, 224)),\n",
    "        transforms.ToTensor(),\n",
    "        transforms.Normalize((0.5,), (0.5,))\n",
    "    ])\n",
    "\n",
    "    train_dataset = datasets.MNIST(root='./data', train=True, transform=transform, download=True)\n",
    "    test_dataset = datasets.MNIST(root='./data', train=False, transform=transform, download=True)\n",
    "\n",
    "    # Convert grayscale to 3-channel\n",
    "    train_data = train_dataset.data.unsqueeze(1).repeat(1, 3, 1, 1).float()\n",
    "    test_data = test_dataset.data.unsqueeze(1).repeat(1, 3, 1, 1).float()\n",
    "\n",
    "    num_classes = 10\n",
    "    train_targets = nn.functional.one_hot(train_dataset.targets, num_classes=num_classes).float()\n",
    "    test_targets = nn.functional.one_hot(test_dataset.targets, num_classes=num_classes).float()\n",
    "\n",
    "    train_loader = DataLoader(TensorDataset(train_data, train_targets), batch_size=batch_size, shuffle=True)\n",
    "    test_loader = DataLoader(TensorDataset(test_data, test_targets), batch_size=batch_size, shuffle=False)\n",
    "\n",
    "    return train_loader, test_loader\n"
   ]
  },
  {
   "cell_type": "code",
   "execution_count": 4,
   "metadata": {},
   "outputs": [],
   "source": [
    "M = models((load_mnist()))"
   ]
  },
  {
   "cell_type": "code",
   "execution_count": 5,
   "metadata": {},
   "outputs": [
    {
     "name": "stderr",
     "output_type": "stream",
     "text": [
      "c:\\Users\\Theon\\miniconda3\\Lib\\site-packages\\torch\\nn\\modules\\conv.py:549: UserWarning: Using padding='same' with even kernel lengths and odd dilation may require a zero-padded copy of the input be created (Triggered internally at C:\\actions-runner\\_work\\pytorch\\pytorch\\builder\\windows\\pytorch\\aten\\src\\ATen\\native\\Convolution.cpp:1037.)\n",
      "  return F.conv2d(\n"
     ]
    },
    {
     "name": "stdout",
     "output_type": "stream",
     "text": [
      "Epoch 1/10, Loss: 14.1599\n",
      "Epoch 2/10, Loss: 14.1600\n"
     ]
    },
    {
     "ename": "KeyboardInterrupt",
     "evalue": "",
     "output_type": "error",
     "traceback": [
      "\u001b[1;31m---------------------------------------------------------------------------\u001b[0m",
      "\u001b[1;31mKeyboardInterrupt\u001b[0m                         Traceback (most recent call last)",
      "Cell \u001b[1;32mIn[5], line 1\u001b[0m\n\u001b[1;32m----> 1\u001b[0m cnn \u001b[38;5;241m=\u001b[39m \u001b[43mM\u001b[49m\u001b[38;5;241;43m.\u001b[39;49m\u001b[43mSmallCNN_torch\u001b[49m\u001b[43m(\u001b[49m\u001b[43m)\u001b[49m\n",
      "File \u001b[1;32mc:\\Users\\Theon\\Downloads\\view-prediction\\utils\\models.py:259\u001b[0m, in \u001b[0;36mmodels.SmallCNN_torch\u001b[1;34m(self, lr, metrics, **kwargs)\u001b[0m\n\u001b[0;32m    255\u001b[0m     \u001b[38;5;28mprint\u001b[39m(\u001b[38;5;124mf\u001b[39m\u001b[38;5;124m\"\u001b[39m\u001b[38;5;124mAccuracy: \u001b[39m\u001b[38;5;132;01m{\u001b[39;00m\u001b[38;5;241m100\u001b[39m\u001b[38;5;250m \u001b[39m\u001b[38;5;241m*\u001b[39m\u001b[38;5;250m \u001b[39mcorrect\u001b[38;5;250m \u001b[39m\u001b[38;5;241m/\u001b[39m\u001b[38;5;250m \u001b[39mtotal\u001b[38;5;132;01m:\u001b[39;00m\u001b[38;5;124m.2f\u001b[39m\u001b[38;5;132;01m}\u001b[39;00m\u001b[38;5;124m%\u001b[39m\u001b[38;5;124m\"\u001b[39m)\n\u001b[0;32m    257\u001b[0m     \u001b[38;5;28;01mreturn\u001b[39;00m model\n\u001b[1;32m--> 259\u001b[0m \u001b[38;5;28;01mreturn\u001b[39;00m \u001b[43mtrain_and_evaluate\u001b[49m\u001b[43m(\u001b[49m\u001b[43mSmallCNN\u001b[49m\u001b[43m(\u001b[49m\u001b[43m)\u001b[49m\u001b[43m,\u001b[49m\u001b[43m \u001b[49m\u001b[38;5;28;43mself\u001b[39;49m\u001b[38;5;241;43m.\u001b[39;49m\u001b[43mtrain\u001b[49m\u001b[43m,\u001b[49m\u001b[43m \u001b[49m\u001b[38;5;28;43mself\u001b[39;49m\u001b[38;5;241;43m.\u001b[39;49m\u001b[43mtest\u001b[49m\u001b[43m)\u001b[49m\n",
      "File \u001b[1;32mc:\\Users\\Theon\\Downloads\\view-prediction\\utils\\models.py:231\u001b[0m, in \u001b[0;36mmodels.SmallCNN_torch.<locals>.train_and_evaluate\u001b[1;34m(model, train_data, test_data, lr, epochs, batch_size)\u001b[0m\n\u001b[0;32m    229\u001b[0m inputs, targets \u001b[38;5;241m=\u001b[39m data\n\u001b[0;32m    230\u001b[0m optimizer\u001b[38;5;241m.\u001b[39mzero_grad()\n\u001b[1;32m--> 231\u001b[0m outputs \u001b[38;5;241m=\u001b[39m \u001b[43mmodel\u001b[49m\u001b[43m(\u001b[49m\u001b[43minputs\u001b[49m\u001b[43m)\u001b[49m\n\u001b[0;32m    232\u001b[0m loss \u001b[38;5;241m=\u001b[39m criterion(outputs\u001b[38;5;241m.\u001b[39msqueeze(), targets)\n\u001b[0;32m    233\u001b[0m loss\u001b[38;5;241m.\u001b[39mbackward()\n",
      "File \u001b[1;32mc:\\Users\\Theon\\miniconda3\\Lib\\site-packages\\torch\\nn\\modules\\module.py:1736\u001b[0m, in \u001b[0;36mModule._wrapped_call_impl\u001b[1;34m(self, *args, **kwargs)\u001b[0m\n\u001b[0;32m   1734\u001b[0m     \u001b[38;5;28;01mreturn\u001b[39;00m \u001b[38;5;28mself\u001b[39m\u001b[38;5;241m.\u001b[39m_compiled_call_impl(\u001b[38;5;241m*\u001b[39margs, \u001b[38;5;241m*\u001b[39m\u001b[38;5;241m*\u001b[39mkwargs)  \u001b[38;5;66;03m# type: ignore[misc]\u001b[39;00m\n\u001b[0;32m   1735\u001b[0m \u001b[38;5;28;01melse\u001b[39;00m:\n\u001b[1;32m-> 1736\u001b[0m     \u001b[38;5;28;01mreturn\u001b[39;00m \u001b[38;5;28;43mself\u001b[39;49m\u001b[38;5;241;43m.\u001b[39;49m\u001b[43m_call_impl\u001b[49m\u001b[43m(\u001b[49m\u001b[38;5;241;43m*\u001b[39;49m\u001b[43margs\u001b[49m\u001b[43m,\u001b[49m\u001b[43m \u001b[49m\u001b[38;5;241;43m*\u001b[39;49m\u001b[38;5;241;43m*\u001b[39;49m\u001b[43mkwargs\u001b[49m\u001b[43m)\u001b[49m\n",
      "File \u001b[1;32mc:\\Users\\Theon\\miniconda3\\Lib\\site-packages\\torch\\nn\\modules\\module.py:1747\u001b[0m, in \u001b[0;36mModule._call_impl\u001b[1;34m(self, *args, **kwargs)\u001b[0m\n\u001b[0;32m   1742\u001b[0m \u001b[38;5;66;03m# If we don't have any hooks, we want to skip the rest of the logic in\u001b[39;00m\n\u001b[0;32m   1743\u001b[0m \u001b[38;5;66;03m# this function, and just call forward.\u001b[39;00m\n\u001b[0;32m   1744\u001b[0m \u001b[38;5;28;01mif\u001b[39;00m \u001b[38;5;129;01mnot\u001b[39;00m (\u001b[38;5;28mself\u001b[39m\u001b[38;5;241m.\u001b[39m_backward_hooks \u001b[38;5;129;01mor\u001b[39;00m \u001b[38;5;28mself\u001b[39m\u001b[38;5;241m.\u001b[39m_backward_pre_hooks \u001b[38;5;129;01mor\u001b[39;00m \u001b[38;5;28mself\u001b[39m\u001b[38;5;241m.\u001b[39m_forward_hooks \u001b[38;5;129;01mor\u001b[39;00m \u001b[38;5;28mself\u001b[39m\u001b[38;5;241m.\u001b[39m_forward_pre_hooks\n\u001b[0;32m   1745\u001b[0m         \u001b[38;5;129;01mor\u001b[39;00m _global_backward_pre_hooks \u001b[38;5;129;01mor\u001b[39;00m _global_backward_hooks\n\u001b[0;32m   1746\u001b[0m         \u001b[38;5;129;01mor\u001b[39;00m _global_forward_hooks \u001b[38;5;129;01mor\u001b[39;00m _global_forward_pre_hooks):\n\u001b[1;32m-> 1747\u001b[0m     \u001b[38;5;28;01mreturn\u001b[39;00m \u001b[43mforward_call\u001b[49m\u001b[43m(\u001b[49m\u001b[38;5;241;43m*\u001b[39;49m\u001b[43margs\u001b[49m\u001b[43m,\u001b[49m\u001b[43m \u001b[49m\u001b[38;5;241;43m*\u001b[39;49m\u001b[38;5;241;43m*\u001b[39;49m\u001b[43mkwargs\u001b[49m\u001b[43m)\u001b[49m\n\u001b[0;32m   1749\u001b[0m result \u001b[38;5;241m=\u001b[39m \u001b[38;5;28;01mNone\u001b[39;00m\n\u001b[0;32m   1750\u001b[0m called_always_called_hooks \u001b[38;5;241m=\u001b[39m \u001b[38;5;28mset\u001b[39m()\n",
      "File \u001b[1;32mc:\\Users\\Theon\\Downloads\\view-prediction\\utils\\models.py:212\u001b[0m, in \u001b[0;36mmodels.SmallCNN_torch.<locals>.SmallCNN.forward\u001b[1;34m(self, x)\u001b[0m\n\u001b[0;32m    210\u001b[0m x \u001b[38;5;241m=\u001b[39m \u001b[38;5;28mself\u001b[39m\u001b[38;5;241m.\u001b[39mpool1(x)\n\u001b[0;32m    211\u001b[0m x \u001b[38;5;241m=\u001b[39m torch\u001b[38;5;241m.\u001b[39mrelu(\u001b[38;5;28mself\u001b[39m\u001b[38;5;241m.\u001b[39mconv2(x))\n\u001b[1;32m--> 212\u001b[0m x \u001b[38;5;241m=\u001b[39m \u001b[38;5;28;43mself\u001b[39;49m\u001b[38;5;241;43m.\u001b[39;49m\u001b[43mpool2\u001b[49m\u001b[43m(\u001b[49m\u001b[43mx\u001b[49m\u001b[43m)\u001b[49m\n\u001b[0;32m    213\u001b[0m x \u001b[38;5;241m=\u001b[39m torch\u001b[38;5;241m.\u001b[39mrelu(\u001b[38;5;28mself\u001b[39m\u001b[38;5;241m.\u001b[39mconv3(x))\n\u001b[0;32m    214\u001b[0m x \u001b[38;5;241m=\u001b[39m \u001b[38;5;28mself\u001b[39m\u001b[38;5;241m.\u001b[39mflatten(x)\n",
      "File \u001b[1;32mc:\\Users\\Theon\\miniconda3\\Lib\\site-packages\\torch\\nn\\modules\\module.py:1736\u001b[0m, in \u001b[0;36mModule._wrapped_call_impl\u001b[1;34m(self, *args, **kwargs)\u001b[0m\n\u001b[0;32m   1734\u001b[0m     \u001b[38;5;28;01mreturn\u001b[39;00m \u001b[38;5;28mself\u001b[39m\u001b[38;5;241m.\u001b[39m_compiled_call_impl(\u001b[38;5;241m*\u001b[39margs, \u001b[38;5;241m*\u001b[39m\u001b[38;5;241m*\u001b[39mkwargs)  \u001b[38;5;66;03m# type: ignore[misc]\u001b[39;00m\n\u001b[0;32m   1735\u001b[0m \u001b[38;5;28;01melse\u001b[39;00m:\n\u001b[1;32m-> 1736\u001b[0m     \u001b[38;5;28;01mreturn\u001b[39;00m \u001b[38;5;28;43mself\u001b[39;49m\u001b[38;5;241;43m.\u001b[39;49m\u001b[43m_call_impl\u001b[49m\u001b[43m(\u001b[49m\u001b[38;5;241;43m*\u001b[39;49m\u001b[43margs\u001b[49m\u001b[43m,\u001b[49m\u001b[43m \u001b[49m\u001b[38;5;241;43m*\u001b[39;49m\u001b[38;5;241;43m*\u001b[39;49m\u001b[43mkwargs\u001b[49m\u001b[43m)\u001b[49m\n",
      "File \u001b[1;32mc:\\Users\\Theon\\miniconda3\\Lib\\site-packages\\torch\\nn\\modules\\module.py:1747\u001b[0m, in \u001b[0;36mModule._call_impl\u001b[1;34m(self, *args, **kwargs)\u001b[0m\n\u001b[0;32m   1742\u001b[0m \u001b[38;5;66;03m# If we don't have any hooks, we want to skip the rest of the logic in\u001b[39;00m\n\u001b[0;32m   1743\u001b[0m \u001b[38;5;66;03m# this function, and just call forward.\u001b[39;00m\n\u001b[0;32m   1744\u001b[0m \u001b[38;5;28;01mif\u001b[39;00m \u001b[38;5;129;01mnot\u001b[39;00m (\u001b[38;5;28mself\u001b[39m\u001b[38;5;241m.\u001b[39m_backward_hooks \u001b[38;5;129;01mor\u001b[39;00m \u001b[38;5;28mself\u001b[39m\u001b[38;5;241m.\u001b[39m_backward_pre_hooks \u001b[38;5;129;01mor\u001b[39;00m \u001b[38;5;28mself\u001b[39m\u001b[38;5;241m.\u001b[39m_forward_hooks \u001b[38;5;129;01mor\u001b[39;00m \u001b[38;5;28mself\u001b[39m\u001b[38;5;241m.\u001b[39m_forward_pre_hooks\n\u001b[0;32m   1745\u001b[0m         \u001b[38;5;129;01mor\u001b[39;00m _global_backward_pre_hooks \u001b[38;5;129;01mor\u001b[39;00m _global_backward_hooks\n\u001b[0;32m   1746\u001b[0m         \u001b[38;5;129;01mor\u001b[39;00m _global_forward_hooks \u001b[38;5;129;01mor\u001b[39;00m _global_forward_pre_hooks):\n\u001b[1;32m-> 1747\u001b[0m     \u001b[38;5;28;01mreturn\u001b[39;00m \u001b[43mforward_call\u001b[49m\u001b[43m(\u001b[49m\u001b[38;5;241;43m*\u001b[39;49m\u001b[43margs\u001b[49m\u001b[43m,\u001b[49m\u001b[43m \u001b[49m\u001b[38;5;241;43m*\u001b[39;49m\u001b[38;5;241;43m*\u001b[39;49m\u001b[43mkwargs\u001b[49m\u001b[43m)\u001b[49m\n\u001b[0;32m   1749\u001b[0m result \u001b[38;5;241m=\u001b[39m \u001b[38;5;28;01mNone\u001b[39;00m\n\u001b[0;32m   1750\u001b[0m called_always_called_hooks \u001b[38;5;241m=\u001b[39m \u001b[38;5;28mset\u001b[39m()\n",
      "File \u001b[1;32mc:\\Users\\Theon\\miniconda3\\Lib\\site-packages\\torch\\nn\\modules\\pooling.py:213\u001b[0m, in \u001b[0;36mMaxPool2d.forward\u001b[1;34m(self, input)\u001b[0m\n\u001b[0;32m    212\u001b[0m \u001b[38;5;28;01mdef\u001b[39;00m \u001b[38;5;21mforward\u001b[39m(\u001b[38;5;28mself\u001b[39m, \u001b[38;5;28minput\u001b[39m: Tensor):\n\u001b[1;32m--> 213\u001b[0m     \u001b[38;5;28;01mreturn\u001b[39;00m \u001b[43mF\u001b[49m\u001b[38;5;241;43m.\u001b[39;49m\u001b[43mmax_pool2d\u001b[49m\u001b[43m(\u001b[49m\n\u001b[0;32m    214\u001b[0m \u001b[43m        \u001b[49m\u001b[38;5;28;43minput\u001b[39;49m\u001b[43m,\u001b[49m\n\u001b[0;32m    215\u001b[0m \u001b[43m        \u001b[49m\u001b[38;5;28;43mself\u001b[39;49m\u001b[38;5;241;43m.\u001b[39;49m\u001b[43mkernel_size\u001b[49m\u001b[43m,\u001b[49m\n\u001b[0;32m    216\u001b[0m \u001b[43m        \u001b[49m\u001b[38;5;28;43mself\u001b[39;49m\u001b[38;5;241;43m.\u001b[39;49m\u001b[43mstride\u001b[49m\u001b[43m,\u001b[49m\n\u001b[0;32m    217\u001b[0m \u001b[43m        \u001b[49m\u001b[38;5;28;43mself\u001b[39;49m\u001b[38;5;241;43m.\u001b[39;49m\u001b[43mpadding\u001b[49m\u001b[43m,\u001b[49m\n\u001b[0;32m    218\u001b[0m \u001b[43m        \u001b[49m\u001b[38;5;28;43mself\u001b[39;49m\u001b[38;5;241;43m.\u001b[39;49m\u001b[43mdilation\u001b[49m\u001b[43m,\u001b[49m\n\u001b[0;32m    219\u001b[0m \u001b[43m        \u001b[49m\u001b[43mceil_mode\u001b[49m\u001b[38;5;241;43m=\u001b[39;49m\u001b[38;5;28;43mself\u001b[39;49m\u001b[38;5;241;43m.\u001b[39;49m\u001b[43mceil_mode\u001b[49m\u001b[43m,\u001b[49m\n\u001b[0;32m    220\u001b[0m \u001b[43m        \u001b[49m\u001b[43mreturn_indices\u001b[49m\u001b[38;5;241;43m=\u001b[39;49m\u001b[38;5;28;43mself\u001b[39;49m\u001b[38;5;241;43m.\u001b[39;49m\u001b[43mreturn_indices\u001b[49m\u001b[43m,\u001b[49m\n\u001b[0;32m    221\u001b[0m \u001b[43m    \u001b[49m\u001b[43m)\u001b[49m\n",
      "File \u001b[1;32mc:\\Users\\Theon\\miniconda3\\Lib\\site-packages\\torch\\_jit_internal.py:624\u001b[0m, in \u001b[0;36mboolean_dispatch.<locals>.fn\u001b[1;34m(*args, **kwargs)\u001b[0m\n\u001b[0;32m    622\u001b[0m     \u001b[38;5;28;01mreturn\u001b[39;00m if_true(\u001b[38;5;241m*\u001b[39margs, \u001b[38;5;241m*\u001b[39m\u001b[38;5;241m*\u001b[39mkwargs)\n\u001b[0;32m    623\u001b[0m \u001b[38;5;28;01melse\u001b[39;00m:\n\u001b[1;32m--> 624\u001b[0m     \u001b[38;5;28;01mreturn\u001b[39;00m \u001b[43mif_false\u001b[49m\u001b[43m(\u001b[49m\u001b[38;5;241;43m*\u001b[39;49m\u001b[43margs\u001b[49m\u001b[43m,\u001b[49m\u001b[43m \u001b[49m\u001b[38;5;241;43m*\u001b[39;49m\u001b[38;5;241;43m*\u001b[39;49m\u001b[43mkwargs\u001b[49m\u001b[43m)\u001b[49m\n",
      "File \u001b[1;32mc:\\Users\\Theon\\miniconda3\\Lib\\site-packages\\torch\\nn\\functional.py:830\u001b[0m, in \u001b[0;36m_max_pool2d\u001b[1;34m(input, kernel_size, stride, padding, dilation, ceil_mode, return_indices)\u001b[0m\n\u001b[0;32m    828\u001b[0m \u001b[38;5;28;01mif\u001b[39;00m stride \u001b[38;5;129;01mis\u001b[39;00m \u001b[38;5;28;01mNone\u001b[39;00m:\n\u001b[0;32m    829\u001b[0m     stride \u001b[38;5;241m=\u001b[39m torch\u001b[38;5;241m.\u001b[39mjit\u001b[38;5;241m.\u001b[39mannotate(List[\u001b[38;5;28mint\u001b[39m], [])\n\u001b[1;32m--> 830\u001b[0m \u001b[38;5;28;01mreturn\u001b[39;00m \u001b[43mtorch\u001b[49m\u001b[38;5;241;43m.\u001b[39;49m\u001b[43mmax_pool2d\u001b[49m\u001b[43m(\u001b[49m\u001b[38;5;28;43minput\u001b[39;49m\u001b[43m,\u001b[49m\u001b[43m \u001b[49m\u001b[43mkernel_size\u001b[49m\u001b[43m,\u001b[49m\u001b[43m \u001b[49m\u001b[43mstride\u001b[49m\u001b[43m,\u001b[49m\u001b[43m \u001b[49m\u001b[43mpadding\u001b[49m\u001b[43m,\u001b[49m\u001b[43m \u001b[49m\u001b[43mdilation\u001b[49m\u001b[43m,\u001b[49m\u001b[43m \u001b[49m\u001b[43mceil_mode\u001b[49m\u001b[43m)\u001b[49m\n",
      "\u001b[1;31mKeyboardInterrupt\u001b[0m: "
     ]
    }
   ],
   "source": [
    "cnn = M.SmallCNN_torch()"
   ]
  },
  {
   "cell_type": "code",
   "execution_count": 14,
   "metadata": {},
   "outputs": [
    {
     "data": {
      "text/plain": [
       "(60000, 28, 28, 1)"
      ]
     },
     "execution_count": 14,
     "metadata": {},
     "output_type": "execute_result"
    }
   ],
   "source": [
    "train[0].shape"
   ]
  },
  {
   "cell_type": "code",
   "execution_count": 10,
   "metadata": {},
   "outputs": [
    {
     "ename": "KeyboardInterrupt",
     "evalue": "",
     "output_type": "error",
     "traceback": [
      "\u001b[1;31m---------------------------------------------------------------------------\u001b[0m",
      "\u001b[1;31mKeyboardInterrupt\u001b[0m                         Traceback (most recent call last)",
      "Cell \u001b[1;32mIn[10], line 3\u001b[0m\n\u001b[0;32m      1\u001b[0m \u001b[38;5;66;03m# Get training features from cbis_ddsm and validation data from inbreast\u001b[39;00m\n\u001b[1;32m----> 3\u001b[0m \u001b[38;5;28;43;01mclass\u001b[39;49;00m\u001b[43m \u001b[49m\u001b[38;5;21;43;01mcbis_ddsm_data\u001b[39;49;00m\u001b[43m:\u001b[49m\n\u001b[0;32m      5\u001b[0m \u001b[43m    \u001b[49m\u001b[43mx_train\u001b[49m\u001b[43m,\u001b[49m\u001b[43m \u001b[49m\u001b[43mx_test\u001b[49m\u001b[43m,\u001b[49m\u001b[43m \u001b[49m\u001b[43my_train\u001b[49m\u001b[43m,\u001b[49m\u001b[43m \u001b[49m\u001b[43my_test\u001b[49m\u001b[43m \u001b[49m\u001b[38;5;241;43m=\u001b[39;49m\u001b[43m \u001b[49m\u001b[43mdata\u001b[49m\u001b[43m \u001b[49m\u001b[38;5;241;43m=\u001b[39;49m\u001b[43m \u001b[49m\u001b[43mcbis_ddsm\u001b[49m\u001b[38;5;241;43m.\u001b[39;49m\u001b[43mget_images\u001b[49m\u001b[43m(\u001b[49m\u001b[43m)\u001b[49m\n\u001b[0;32m      7\u001b[0m \u001b[38;5;28;01mclass\u001b[39;00m \u001b[38;5;21;01minbreast_data\u001b[39;00m:\n",
      "Cell \u001b[1;32mIn[10], line 5\u001b[0m, in \u001b[0;36mcbis_ddsm_data\u001b[1;34m()\u001b[0m\n\u001b[0;32m      3\u001b[0m \u001b[38;5;28;01mclass\u001b[39;00m \u001b[38;5;21;01mcbis_ddsm_data\u001b[39;00m:\n\u001b[1;32m----> 5\u001b[0m     x_train, x_test, y_train, y_test \u001b[38;5;241m=\u001b[39m data \u001b[38;5;241m=\u001b[39m \u001b[43mcbis_ddsm\u001b[49m\u001b[38;5;241;43m.\u001b[39;49m\u001b[43mget_images\u001b[49m\u001b[43m(\u001b[49m\u001b[43m)\u001b[49m\n",
      "File \u001b[1;32mc:\\Users\\Theon\\Downloads\\view-prediction\\utils\\data_tools.py:605\u001b[0m, in \u001b[0;36mcbis_ddsm.get_images\u001b[1;34m(compress, new_width, new_height, df, test_split, validation_split, random_state)\u001b[0m\n\u001b[0;32m    601\u001b[0m     \u001b[38;5;28mprint\u001b[39m(\u001b[38;5;124mf\u001b[39m\u001b[38;5;124m\"\u001b[39m\u001b[38;5;132;01m{\u001b[39;00mi\u001b[38;5;132;01m}\u001b[39;00m\u001b[38;5;124m/\u001b[39m\u001b[38;5;132;01m{\u001b[39;00mtotal_images\u001b[38;5;132;01m}\u001b[39;00m\u001b[38;5;124m\"\u001b[39m)\n\u001b[0;32m    603\u001b[0m     clear_output(wait\u001b[38;5;241m=\u001b[39m\u001b[38;5;28;01mTrue\u001b[39;00m)\n\u001b[1;32m--> 605\u001b[0m     x\u001b[38;5;241m.\u001b[39mappend(\u001b[43mimage_processing\u001b[49m\u001b[38;5;241;43m.\u001b[39;49m\u001b[43mget_cbis_ddsm_image\u001b[49m\u001b[43m(\u001b[49m\u001b[43mimage\u001b[49m\u001b[43m[\u001b[49m\u001b[38;5;124;43m'\u001b[39;49m\u001b[38;5;124;43mImageLink\u001b[39;49m\u001b[38;5;124;43m'\u001b[39;49m\u001b[43m]\u001b[49m\u001b[43m,\u001b[49m\u001b[43m \u001b[49m\u001b[43mcompress\u001b[49m\u001b[38;5;241;43m=\u001b[39;49m\u001b[43mcompress\u001b[49m\u001b[43m,\u001b[49m\u001b[43m \u001b[49m\u001b[43mnew_height\u001b[49m\u001b[38;5;241;43m=\u001b[39;49m\u001b[43mnew_height\u001b[49m\u001b[43m,\u001b[49m\u001b[43m \u001b[49m\u001b[43mnew_width\u001b[49m\u001b[38;5;241;43m=\u001b[39;49m\u001b[43mnew_width\u001b[49m\u001b[43m,\u001b[49m\u001b[43m \u001b[49m\u001b[43mto_rgb\u001b[49m\u001b[38;5;241;43m=\u001b[39;49m\u001b[38;5;28;43;01mTrue\u001b[39;49;00m\u001b[43m,\u001b[49m\u001b[43m \u001b[49m\u001b[43mimage_scale\u001b[49m\u001b[38;5;241;43m=\u001b[39;49m\u001b[38;5;124;43m'\u001b[39;49m\u001b[38;5;124;43mNormalize\u001b[39;49m\u001b[38;5;124;43m'\u001b[39;49m\u001b[43m)\u001b[49m)\n\u001b[0;32m    607\u001b[0m     y\u001b[38;5;241m.\u001b[39mappend(\u001b[38;5;241m1\u001b[39m \u001b[38;5;28;01mif\u001b[39;00m image[\u001b[38;5;124m'\u001b[39m\u001b[38;5;124mView\u001b[39m\u001b[38;5;124m'\u001b[39m] \u001b[38;5;241m==\u001b[39m \u001b[38;5;124m'\u001b[39m\u001b[38;5;124mMLO\u001b[39m\u001b[38;5;124m'\u001b[39m \u001b[38;5;28;01melse\u001b[39;00m \u001b[38;5;241m0\u001b[39m)\n\u001b[0;32m    609\u001b[0m x_train, x_test, y_train, y_test \u001b[38;5;241m=\u001b[39m sklearn\u001b[38;5;241m.\u001b[39mmodel_selection\u001b[38;5;241m.\u001b[39mtrain_test_split(x, y, test_size\u001b[38;5;241m=\u001b[39mtest_split, random_state\u001b[38;5;241m=\u001b[39mrandom_state)\n",
      "File \u001b[1;32mc:\\Users\\Theon\\Downloads\\view-prediction\\utils\\data_tools.py:52\u001b[0m, in \u001b[0;36mimage_processing.get_cbis_ddsm_image\u001b[1;34m(filename, unzip_path, folder, compress, to_rgb, image_scale, new_width, new_height)\u001b[0m\n\u001b[0;32m     48\u001b[0m image \u001b[38;5;241m=\u001b[39m np\u001b[38;5;241m.\u001b[39marray(Image\u001b[38;5;241m.\u001b[39mopen(\u001b[38;5;124mf\u001b[39m\u001b[38;5;124m'\u001b[39m\u001b[38;5;132;01m{\u001b[39;00munzip_path\u001b[38;5;132;01m}\u001b[39;00m\u001b[38;5;124m/\u001b[39m\u001b[38;5;132;01m{\u001b[39;00mfolder\u001b[38;5;132;01m}\u001b[39;00m\u001b[38;5;124m/\u001b[39m\u001b[38;5;132;01m{\u001b[39;00mfilename\u001b[38;5;132;01m}\u001b[39;00m\u001b[38;5;124m'\u001b[39m))\n\u001b[0;32m     50\u001b[0m \u001b[38;5;28;01mif\u001b[39;00m compress:\n\u001b[1;32m---> 52\u001b[0m     image \u001b[38;5;241m=\u001b[39m  \u001b[43mimage_processing\u001b[49m\u001b[38;5;241;43m.\u001b[39;49m\u001b[43mcompress_image_average\u001b[49m\u001b[43m(\u001b[49m\u001b[43mimage\u001b[49m\u001b[43m,\u001b[49m\u001b[43m \u001b[49m\u001b[43mnew_width\u001b[49m\u001b[43m \u001b[49m\u001b[38;5;241;43m=\u001b[39;49m\u001b[43m \u001b[49m\u001b[43mnew_width\u001b[49m\u001b[43m,\u001b[49m\u001b[43m \u001b[49m\u001b[43mnew_height\u001b[49m\u001b[43m \u001b[49m\u001b[38;5;241;43m=\u001b[39;49m\u001b[43m \u001b[49m\u001b[43mnew_height\u001b[49m\u001b[43m)\u001b[49m\n\u001b[0;32m     54\u001b[0m \u001b[38;5;28;01mif\u001b[39;00m to_rgb:\n\u001b[0;32m     56\u001b[0m     image \u001b[38;5;241m=\u001b[39m image_processing\u001b[38;5;241m.\u001b[39mheatmap_to_rgb(image, image_scale\u001b[38;5;241m=\u001b[39mimage_scale)\n",
      "File \u001b[1;32mc:\\Users\\Theon\\Downloads\\view-prediction\\utils\\data_tools.py:109\u001b[0m, in \u001b[0;36mimage_processing.compress_image_average\u001b[1;34m(image, new_width, new_height)\u001b[0m\n\u001b[0;32m    105\u001b[0m     end_w \u001b[38;5;241m=\u001b[39m counter_width \u001b[38;5;241m+\u001b[39m kernel_width \u001b[38;5;241m+\u001b[39m buffer_width[j]\n\u001b[0;32m    107\u001b[0m     area \u001b[38;5;241m=\u001b[39m image[counter_height: end_h, counter_width: end_w]\n\u001b[1;32m--> 109\u001b[0m     new_image[\u001b[38;5;241m-\u001b[39m\u001b[38;5;241m1\u001b[39m]\u001b[38;5;241m.\u001b[39mappend(\u001b[38;5;28mint\u001b[39m(\u001b[43marea\u001b[49m\u001b[38;5;241;43m.\u001b[39;49m\u001b[43mmean\u001b[49m\u001b[43m(\u001b[49m\u001b[43m)\u001b[49m))\n\u001b[0;32m    111\u001b[0m     counter_width \u001b[38;5;241m+\u001b[39m\u001b[38;5;241m=\u001b[39m kernel_width \u001b[38;5;241m+\u001b[39m buffer_width[j]\n\u001b[0;32m    113\u001b[0m counter_height \u001b[38;5;241m+\u001b[39m\u001b[38;5;241m=\u001b[39m kernel_height \u001b[38;5;241m+\u001b[39m buffer_height[i]\n",
      "File \u001b[1;32mc:\\Users\\Theon\\miniconda3\\Lib\\site-packages\\numpy\\_core\\_methods.py:111\u001b[0m, in \u001b[0;36m_mean\u001b[1;34m(a, axis, dtype, out, keepdims, where)\u001b[0m\n\u001b[0;32m    110\u001b[0m \u001b[38;5;28;01mdef\u001b[39;00m \u001b[38;5;21m_mean\u001b[39m(a, axis\u001b[38;5;241m=\u001b[39m\u001b[38;5;28;01mNone\u001b[39;00m, dtype\u001b[38;5;241m=\u001b[39m\u001b[38;5;28;01mNone\u001b[39;00m, out\u001b[38;5;241m=\u001b[39m\u001b[38;5;28;01mNone\u001b[39;00m, keepdims\u001b[38;5;241m=\u001b[39m\u001b[38;5;28;01mFalse\u001b[39;00m, \u001b[38;5;241m*\u001b[39m, where\u001b[38;5;241m=\u001b[39m\u001b[38;5;28;01mTrue\u001b[39;00m):\n\u001b[1;32m--> 111\u001b[0m     arr \u001b[38;5;241m=\u001b[39m \u001b[43masanyarray\u001b[49m\u001b[43m(\u001b[49m\u001b[43ma\u001b[49m\u001b[43m)\u001b[49m\n\u001b[0;32m    113\u001b[0m     is_float16_result \u001b[38;5;241m=\u001b[39m \u001b[38;5;28;01mFalse\u001b[39;00m\n\u001b[0;32m    115\u001b[0m     rcount \u001b[38;5;241m=\u001b[39m _count_reduce_items(arr, axis, keepdims\u001b[38;5;241m=\u001b[39mkeepdims, where\u001b[38;5;241m=\u001b[39mwhere)\n",
      "\u001b[1;31mKeyboardInterrupt\u001b[0m: "
     ]
    }
   ],
   "source": [
    "# Get training features from cbis_ddsm and validation data from inbreast\n",
    "\n",
    "class cbis_ddsm_data:\n",
    "\n",
    "    x_train, x_test, y_train, y_test = data = cbis_ddsm.get_images()\n",
    "\n",
    "class inbreast_data:\n",
    "\n",
    "    x_train, x_test, y_train, y_test = data = inbreast.get_images()\n",
    "\n",
    "    x, y = np.concat([x_train, x_test]), np.concat([y_train, y_test])"
   ]
  },
  {
   "cell_type": "code",
   "execution_count": 30,
   "metadata": {},
   "outputs": [],
   "source": [
    "# Create model wrapper\n",
    "\n",
    "M = models(cbis_ddsm_data.data)"
   ]
  },
  {
   "cell_type": "code",
   "execution_count": 31,
   "metadata": {},
   "outputs": [
    {
     "name": "stdout",
     "output_type": "stream",
     "text": [
      "Epoch 1/3\n",
      "\u001b[1m72/72\u001b[0m \u001b[32m━━━━━━━━━━━━━━━━━━━━\u001b[0m\u001b[37m\u001b[0m \u001b[1m13s\u001b[0m 153ms/step - accuracy: 0.7988 - auc: 0.8467 - loss: 0.9398\n",
      "Epoch 2/3\n",
      "\u001b[1m72/72\u001b[0m \u001b[32m━━━━━━━━━━━━━━━━━━━━\u001b[0m\u001b[37m\u001b[0m \u001b[1m11s\u001b[0m 148ms/step - accuracy: 0.9798 - auc: 0.9928 - loss: 0.0860\n",
      "Epoch 3/3\n",
      "\u001b[1m72/72\u001b[0m \u001b[32m━━━━━━━━━━━━━━━━━━━━\u001b[0m\u001b[37m\u001b[0m \u001b[1m11s\u001b[0m 148ms/step - accuracy: 0.9813 - auc: 0.9908 - loss: 0.0890\n",
      "\u001b[1m18/18\u001b[0m \u001b[32m━━━━━━━━━━━━━━━━━━━━\u001b[0m\u001b[37m\u001b[0m \u001b[1m1s\u001b[0m 47ms/step - accuracy: 0.9802 - auc: 0.9985 - loss: 0.0595\n",
      "\n",
      "            SmallCNN stats\n",
      "\n",
      "            BinaryCrossentropy Loss: 0.04648654907941818\n",
      "            auc: 0.9989706873893738\n",
      "accuracy: 0.9842657446861267\n",
      "            \n"
     ]
    }
   ],
   "source": [
    "# Contruct and Train model\n",
    "cnn = M.SmallCNN(epochs=3, lr=0.01, metrics=['auc', 'accuracy'])"
   ]
  },
  {
   "cell_type": "code",
   "execution_count": 32,
   "metadata": {},
   "outputs": [
    {
     "name": "stdout",
     "output_type": "stream",
     "text": [
      "0.9878048780487805\n"
     ]
    }
   ],
   "source": [
    "# Validate on INBreast\n",
    "y_pred = [np.round(p) for p in cnn.predict(inbreast_data.x_test, verbose=0)]\n",
    "\n",
    "print(inbreast_accuracy := accuracy_score(inbreast_data.y_test, y_pred))"
   ]
  },
  {
   "cell_type": "code",
   "execution_count": 33,
   "metadata": {},
   "outputs": [
    {
     "name": "stdout",
     "output_type": "stream",
     "text": [
      "\n",
      "Validation Accuracy (INBreast): 99.0%\n",
      "Number of Params: 161313\n",
      "Memory Allocation: 0.62 MB\n",
      "Run time (100 images GPU): 0.08 sec\n",
      "\n"
     ]
    }
   ],
   "source": [
    "# Model information\n",
    "\n",
    "from timeit import timeit\n",
    "\n",
    "def predict_100_images() -> None:\n",
    "    cnn.predict(cbis_ddsm_data.x_test[: 10], verbose=0)\n",
    "\n",
    "print(f\"\"\"\n",
    "Validation Accuracy (INBreast): {round(inbreast_accuracy, 2) * 100}%\n",
    "Number of Params: {(params := cnn.count_params())}\n",
    "Memory Allocation: {round((params * 4) / (1024**2), 2)} MB\n",
    "Run time (100 images GPU): {timeit(predict_100_images, number=1):.2f} sec\n",
    "\"\"\")"
   ]
  },
  {
   "cell_type": "code",
   "execution_count": 35,
   "metadata": {},
   "outputs": [],
   "source": [
    "cnn.save('models/SmallCNN.keras')"
   ]
  },
  {
   "cell_type": "code",
   "execution_count": null,
   "metadata": {},
   "outputs": [],
   "source": [
    "# GradCAM implementation\n",
    "\n",
    "# from utils.grad_cam import GradCAM_Tools\n",
    "\n",
    "# GradCAM_Tools.display.GradCAM(cnn, inbreast_data.x[0])"
   ]
  }
 ],
 "metadata": {
  "kernelspec": {
   "display_name": "base",
   "language": "python",
   "name": "python3"
  },
  "language_info": {
   "codemirror_mode": {
    "name": "ipython",
    "version": 3
   },
   "file_extension": ".py",
   "mimetype": "text/x-python",
   "name": "python",
   "nbconvert_exporter": "python",
   "pygments_lexer": "ipython3",
   "version": "3.12.3"
  }
 },
 "nbformat": 4,
 "nbformat_minor": 2
}
